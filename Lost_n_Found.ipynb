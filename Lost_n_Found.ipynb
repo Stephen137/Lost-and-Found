{
 "cells": [
  {
   "cell_type": "markdown",
   "id": "59c9876b-3655-4928-9215-f2c11c72ba87",
   "metadata": {},
   "source": [
    "# Lost and Found"
   ]
  },
  {
   "cell_type": "code",
   "execution_count": 1,
   "id": "3cb33eac-116d-40b1-b02f-7dba7c9009f7",
   "metadata": {},
   "outputs": [],
   "source": [
    "import requests\n",
    "import pandas as pd\n",
    "from bs4 import BeautifulSoup"
   ]
  },
  {
   "cell_type": "code",
   "execution_count": null,
   "id": "6166be2f-b786-485a-9f10-7df9b533e396",
   "metadata": {},
   "outputs": [],
   "source": [
    "all_data = []\n",
    "\n",
    "for i in range(1, 131):  # Loop through 130 pages\n",
    "    base_url = f\"https://mpk.krakow.pl/pl/biuro-rzeczy-znalezionych/lista/index,{i}.html\"\n",
    "    page = requests.get(base_url)\n",
    "    \n",
    "    if page.status_code != 200:\n",
    "        print(f\"Failed to fetch page {i}. Status code: {page.status_code}\")\n",
    "        continue\n",
    "    \n",
    "    soup = BeautifulSoup(page.text, \"html.parser\")  \n",
    "\n",
    "    # Extract table headers\n",
    "    lost_and_found_titles = soup.find_all(\"th\")\n",
    "    lost_and_found_table_titles = [title.text.strip() for title in lost_and_found_titles]\n",
    "\n",
    "    # Initialize DataFrame for the current page\n",
    "    df = pd.DataFrame(columns=lost_and_found_table_titles)\n",
    "\n",
    "    # Locate the table\n",
    "    table = soup.find(\"table\", class_=\"przetarg-tab\")\n",
    "    if not table:\n",
    "        print(f\"No table found on page {i}. Skipping.\")\n",
    "        continue\n",
    "\n",
    "    # Extract rows\n",
    "    column_data = table.find_all(\"tr\")  # Includes headers\n",
    "    for row in column_data[1:]:  # Skip the header row\n",
    "        row_data = row.find_all(\"td\")\n",
    "        individual_row_data = [data.text.strip() for data in row_data]\n",
    "        all_data.append(individual_row_data)  # Append raw data for all pages\n",
    "\n",
    "        # Add row to DataFrame\n",
    "        df.loc[len(df)] = individual_row_data\n",
    "\n",
    "    #print(f\"Scraped page {i} successfully.\")\n",
    "\n",
    "# Combine all data into a single DataFrame\n",
    "final_df = pd.DataFrame(all_data, columns=lost_and_found_table_titles)\n",
    "\n",
    "# Save to CSV\n",
    "final_df.to_csv(\"lost_and_found.csv\", index=False, encoding=\"utf-8\")\n",
    "print(\"All data saved to lost_and_found.csv.\")"
   ]
  },
  {
   "cell_type": "code",
   "execution_count": 5,
   "id": "a0ecb094-47ea-481d-aefa-5b0668e1b928",
   "metadata": {},
   "outputs": [
    {
     "name": "stdout",
     "output_type": "stream",
     "text": [
      "<class 'pandas.core.frame.DataFrame'>\n",
      "RangeIndex: 6479 entries, 0 to 6478\n",
      "Data columns (total 5 columns):\n",
      " #   Column                           Non-Null Count  Dtype \n",
      "---  ------                           --------------  ----- \n",
      " 0   Id                               6479 non-null   object\n",
      " 1   Nazwa                            6479 non-null   object\n",
      " 2   Numer linii/Miejsce znalezienia  6479 non-null   object\n",
      " 3   Data znalezienia                 6479 non-null   object\n",
      " 4   Miejsce odbioru                  6479 non-null   object\n",
      "dtypes: object(5)\n",
      "memory usage: 253.2+ KB\n"
     ]
    }
   ],
   "source": [
    "final_df.info()"
   ]
  },
  {
   "cell_type": "code",
   "execution_count": 6,
   "id": "6b383cd8-e50d-470f-971e-101f32ecf8c1",
   "metadata": {},
   "outputs": [
    {
     "data": {
      "text/html": [
       "<div>\n",
       "<style scoped>\n",
       "    .dataframe tbody tr th:only-of-type {\n",
       "        vertical-align: middle;\n",
       "    }\n",
       "\n",
       "    .dataframe tbody tr th {\n",
       "        vertical-align: top;\n",
       "    }\n",
       "\n",
       "    .dataframe thead th {\n",
       "        text-align: right;\n",
       "    }\n",
       "</style>\n",
       "<table border=\"1\" class=\"dataframe\">\n",
       "  <thead>\n",
       "    <tr style=\"text-align: right;\">\n",
       "      <th></th>\n",
       "      <th>Id</th>\n",
       "      <th>Nazwa</th>\n",
       "      <th>Numer linii/Miejsce znalezienia</th>\n",
       "      <th>Data znalezienia</th>\n",
       "      <th>Miejsce odbioru</th>\n",
       "    </tr>\n",
       "  </thead>\n",
       "  <tbody>\n",
       "    <tr>\n",
       "      <th>0</th>\n",
       "      <td>1.15557.2024</td>\n",
       "      <td>Latarka</td>\n",
       "      <td>69</td>\n",
       "      <td>2024-12-01</td>\n",
       "      <td>MPK</td>\n",
       "    </tr>\n",
       "    <tr>\n",
       "      <th>1</th>\n",
       "      <td>1.15558.2024</td>\n",
       "      <td>Laska inwalidzka</td>\n",
       "      <td>17</td>\n",
       "      <td>2024-12-01</td>\n",
       "      <td>MPK</td>\n",
       "    </tr>\n",
       "    <tr>\n",
       "      <th>2</th>\n",
       "      <td>1.15559.2024</td>\n",
       "      <td>Reklamówka z zawartością</td>\n",
       "      <td>21</td>\n",
       "      <td>2024-12-01</td>\n",
       "      <td>MPK</td>\n",
       "    </tr>\n",
       "    <tr>\n",
       "      <th>3</th>\n",
       "      <td>1.15560.2024</td>\n",
       "      <td>Teczka z zawartością</td>\n",
       "      <td>18</td>\n",
       "      <td>2024-12-01</td>\n",
       "      <td>MPK</td>\n",
       "    </tr>\n",
       "    <tr>\n",
       "      <th>4</th>\n",
       "      <td>1.15561.2024</td>\n",
       "      <td>Siatka z zawartością</td>\n",
       "      <td>194</td>\n",
       "      <td>2024-12-01</td>\n",
       "      <td>MPK</td>\n",
       "    </tr>\n",
       "  </tbody>\n",
       "</table>\n",
       "</div>"
      ],
      "text/plain": [
       "             Id                     Nazwa Numer linii/Miejsce znalezienia  \\\n",
       "0  1.15557.2024                   Latarka                              69   \n",
       "1  1.15558.2024          Laska inwalidzka                              17   \n",
       "2  1.15559.2024  Reklamówka z zawartością                              21   \n",
       "3  1.15560.2024      Teczka z zawartością                              18   \n",
       "4  1.15561.2024      Siatka z zawartością                             194   \n",
       "\n",
       "  Data znalezienia Miejsce odbioru  \n",
       "0       2024-12-01             MPK  \n",
       "1       2024-12-01             MPK  \n",
       "2       2024-12-01             MPK  \n",
       "3       2024-12-01             MPK  \n",
       "4       2024-12-01             MPK  "
      ]
     },
     "execution_count": 6,
     "metadata": {},
     "output_type": "execute_result"
    }
   ],
   "source": [
    "final_df.head()"
   ]
  }
 ],
 "metadata": {
  "kernelspec": {
   "display_name": "Python 3 (ipykernel)",
   "language": "python",
   "name": "python3"
  },
  "language_info": {
   "codemirror_mode": {
    "name": "ipython",
    "version": 3
   },
   "file_extension": ".py",
   "mimetype": "text/x-python",
   "name": "python",
   "nbconvert_exporter": "python",
   "pygments_lexer": "ipython3",
   "version": "3.8.10"
  },
  "widgets": {
   "application/vnd.jupyter.widget-state+json": {
    "state": {},
    "version_major": 2,
    "version_minor": 0
   }
  }
 },
 "nbformat": 4,
 "nbformat_minor": 5
}
